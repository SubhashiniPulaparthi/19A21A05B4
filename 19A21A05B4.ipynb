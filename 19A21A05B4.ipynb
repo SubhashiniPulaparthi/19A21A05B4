{
  "nbformat": 4,
  "nbformat_minor": 0,
  "metadata": {
    "colab": {
      "name": "19A21A05B4",
      "provenance": [],
      "collapsed_sections": [],
      "authorship_tag": "ABX9TyP5cAip25SVR1u6Cx8mfGjZ",
      "include_colab_link": true
    },
    "kernelspec": {
      "name": "python3",
      "display_name": "Python 3"
    },
    "language_info": {
      "name": "python"
    }
  },
  "cells": [
    {
      "cell_type": "markdown",
      "metadata": {
        "id": "view-in-github",
        "colab_type": "text"
      },
      "source": [
        "<a href=\"https://colab.research.google.com/github/SubhashiniPulaparthi/19A21A05B4/blob/main/19A21A05B4.ipynb\" target=\"_parent\"><img src=\"https://colab.research.google.com/assets/colab-badge.svg\" alt=\"Open In Colab\"/></a>"
      ]
    },
    {
      "cell_type": "code",
      "metadata": {
        "id": "EosHLdtDTLr6"
      },
      "source": [
        ""
      ],
      "execution_count": null,
      "outputs": []
    },
    {
      "cell_type": "markdown",
      "metadata": {
        "id": "yxjmTfkJYAly"
      },
      "source": [
        ""
      ]
    },
    {
      "cell_type": "markdown",
      "metadata": {
        "id": "lBtp7AY9yMW5"
      },
      "source": [
        " Name: Subhashini Pulaparthi\n",
        " \n",
        "Reg.no:19A21A05B4\n",
        " \n",
        "Section:CSE B"
      ]
    },
    {
      "cell_type": "markdown",
      "metadata": {
        "id": "MLtM-lwB5Z1F"
      },
      "source": [
        " EXERCISE-1\n",
        "\n",
        "a)Write a program in interactive, interpreter, python script mode.\n",
        "\n",
        "Aim :\n",
        "\n",
        "To write a program in interactive, interpreter python script mode.\n",
        "\n",
        "Description:\n",
        "\n",
        "In the Python programming language, there are two ways in which we can run our code:\n",
        "\n",
        "Interactive mode\n",
        "\n",
        "Script mode\n",
        "\n",
        "Interactive mode : Interactive mode is based on this ideology only. In the interactive mode as we enter a command and press enter, the very next step we get the output. The output of the code in the interactive mode is influenced by the last command we give.\n",
        "\n",
        "Script mode : In the script mode, a python program can be written in a file. This file can then be saved and executed using the command prompt."
      ]
    },
    {
      "cell_type": "code",
      "metadata": {
        "colab": {
          "base_uri": "https://localhost:8080/"
        },
        "id": "g1OpRNzgy4XX",
        "outputId": "d30afbc8-b13f-4c56-d90e-ca2e4b9f9124"
      },
      "source": [
        " \n",
        "a=78\n",
        "b=89\n",
        "a,b=b,a\n",
        "print(a,b)"
      ],
      "execution_count": null,
      "outputs": [
        {
          "output_type": "stream",
          "text": [
            "89 78\n"
          ],
          "name": "stdout"
        }
      ]
    },
    {
      "cell_type": "markdown",
      "metadata": {
        "id": "irAmPRru5hzt"
      },
      "source": [
        " b)Write a program to purposefully raise Indentation Error and Correct it.\n",
        "\n",
        "Aim :\n",
        "\n",
        "To write a program to purposefully raise indentation error and correct it.\n",
        "\n",
        "Description :\n",
        "\n",
        "Python is a procedural language. The indentation error can occur when the spaces or tabs are not placed properly. There will not be an issue if the interpreter does not find any issues with the spaces or tabs. If there is an error due to indentation, it will come in between the execution and can be a show stopper."
      ]
    },
    {
      "cell_type": "code",
      "metadata": {
        "colab": {
          "base_uri": "https://localhost:8080/"
        },
        "id": "eQ0-XSJMzG4u",
        "outputId": "7d3f26f1-7e88-43c4-9cc6-9d9b2b82a8de"
      },
      "source": [
        " a=input(\"enter a vlaue:\")\n",
        "b=input(\"enter b value:\")\n",
        "c=a+b;\n",
        "print(\"sum is \",c,sep=\"\\t\")\n",
        "c=int(a)+int(b)\n",
        "print(\"sum of {} and {} is : {}\".format(a,b,c))\n",
        "print(\"sum of %s and %s is:%d\"%(a,b,c))\n",
        "x=10\n",
        "y=123\n",
        "z=x+y;\n",
        "print(\"sum is\",z,sep='\\t' )"
      ],
      "execution_count": null,
      "outputs": [
        {
          "output_type": "stream",
          "text": [
            "enter a vlaue:10\n",
            "enter b value:50\n",
            "sum is \t1050\n",
            "sum of 10 and 50 is : 60\n",
            "sum of 10 and 50 is:60\n",
            "sum is\t133\n"
          ],
          "name": "stdout"
        }
      ]
    },
    {
      "cell_type": "code",
      "metadata": {
        "colab": {
          "base_uri": "https://localhost:8080/"
        },
        "id": "awC-d5LuzZhP",
        "outputId": "bdb954f2-c5e2-49c6-e341-860ef11237e5"
      },
      "source": [
        " print(\"welcome to python\")\n",
        "a=20\n",
        "b=30\n",
        "print(\"the value of a:\",a)\n",
        "print(\"the value of b :\",b)\n",
        "if(a>b):\n",
        "       print(\"a is big\");\n",
        "       print(\"ifbblock ends\")\n",
        "else:\n",
        "            print(\"b is big\")\n",
        "            print(\"elseblock ends\")"
      ],
      "execution_count": null,
      "outputs": [
        {
          "output_type": "stream",
          "text": [
            "welcome to python\n",
            "the value of a: 20\n",
            "the value of b : 30\n",
            "b is big\n",
            "elseblock ends\n"
          ],
          "name": "stdout"
        }
      ]
    },
    {
      "cell_type": "markdown",
      "metadata": {
        "id": "eBRacNuS56Hf"
      },
      "source": [
        " a)Compute distance between two points.\n",
        " \n",
        "Aim :\n",
        " \n",
        "To compute distance between two points.\n",
        " \n",
        "Description :\n",
        " \n",
        "The formula for distance between two point (x1, y1) and (x2, y2) is Distance = d=√((x_2-x_1)²+(y_2-y_1)²)"
      ]
    },
    {
      "cell_type": "code",
      "metadata": {
        "colab": {
          "base_uri": "https://localhost:8080/"
        },
        "id": "aaLiTFDdzfnf",
        "outputId": "72749bb4-b003-4e2b-8808-8f89be68b8b3"
      },
      "source": [
        " x1=10\n",
        "x2=80\n",
        "y1=12\n",
        "y2=20\n",
        "z=(pow((x2-x1),2)+pow((y2-y1),2))**0.5\n",
        "print(z)"
      ],
      "execution_count": null,
      "outputs": [
        {
          "output_type": "stream",
          "text": [
            "70.45565981523414\n"
          ],
          "name": "stdout"
        }
      ]
    },
    {
      "cell_type": "code",
      "metadata": {
        "colab": {
          "base_uri": "https://localhost:8080/"
        },
        "id": "b0qF2qX8zk_v",
        "outputId": "cb7631a2-e93c-4869-ca66-92b171162fac"
      },
      "source": [
        " import math\n",
        "x1=int(input(\"enter  x1 value:\"))\n",
        "x2=int(input(\"enter  x2 value:\"))\n",
        "y1=int(input(\"enter hiy1 value:\"))\n",
        "y2=int(input(\"enter  y2 value:\"))\n",
        "z=math.sqrt((x2-x1)**2+(y2-y1)**2)\n",
        "print(\"the distance between two points is :\",z)\n",
        "print(\"the distance between two points is :\",z,sep='\\t')\n",
        "print(\"the distance between ({}, {})and ({},{}) is  :{}\".format(x1,y1,x2,y2,z))\n",
        " \n",
        "print(\"the distance between (%d, %d)and (%d,%d) is  :%f\"%(x1,y1,x2,y2,z))"
      ],
      "execution_count": null,
      "outputs": [
        {
          "output_type": "stream",
          "text": [
            "enter  x1 value:15\n",
            "enter  x2 value:36\n",
            "enter  y1 value:67\n",
            "enter  y2 value:56\n",
            "the distance between two points is : 23.706539182259394\n",
            "the distance between two points is :\t23.706539182259394\n",
            "the distance between (15, 67)and (36,56) is  :23.706539182259394\n",
            "the distance between (15, 67)and (36,56) is  :23.706539\n"
          ],
          "name": "stdout"
        }
      ]
    },
    {
      "cell_type": "code",
      "metadata": {
        "colab": {
          "base_uri": "https://localhost:8080/",
          "height": 334
        },
        "id": "YJ1Kk81Zz5CP",
        "outputId": "03e5be82-ac32-4a4c-be70-54802ed374c3"
      },
      "source": [
        " import sys\n",
        "a=sys.argv[1]\n",
        "b=sys.argv[2]\n",
        "sum=int(a)+int(b)\n",
        "print(\"summ of two number is:\",sum)"
      ],
      "execution_count": null,
      "outputs": [
        {
          "output_type": "error",
          "ename": "ValueError",
          "evalue": "ignored",
          "traceback": [
            "\u001b[0;31m---------------------------------------------------------------------------\u001b[0m",
            "\u001b[0;31mValueError\u001b[0m                                Traceback (most recent call last)",
            "\u001b[0;32m<ipython-input-7-423241341cab>\u001b[0m in \u001b[0;36m<module>\u001b[0;34m()\u001b[0m\n\u001b[1;32m      2\u001b[0m \u001b[0ma\u001b[0m\u001b[0;34m=\u001b[0m\u001b[0msys\u001b[0m\u001b[0;34m.\u001b[0m\u001b[0margv\u001b[0m\u001b[0;34m[\u001b[0m\u001b[0;36m1\u001b[0m\u001b[0;34m]\u001b[0m\u001b[0;34m\u001b[0m\u001b[0;34m\u001b[0m\u001b[0m\n\u001b[1;32m      3\u001b[0m \u001b[0mb\u001b[0m\u001b[0;34m=\u001b[0m\u001b[0msys\u001b[0m\u001b[0;34m.\u001b[0m\u001b[0margv\u001b[0m\u001b[0;34m[\u001b[0m\u001b[0;36m2\u001b[0m\u001b[0;34m]\u001b[0m\u001b[0;34m\u001b[0m\u001b[0;34m\u001b[0m\u001b[0m\n\u001b[0;32m----> 4\u001b[0;31m \u001b[0msum\u001b[0m\u001b[0;34m=\u001b[0m\u001b[0mint\u001b[0m\u001b[0;34m(\u001b[0m\u001b[0ma\u001b[0m\u001b[0;34m)\u001b[0m\u001b[0;34m+\u001b[0m\u001b[0mint\u001b[0m\u001b[0;34m(\u001b[0m\u001b[0mb\u001b[0m\u001b[0;34m)\u001b[0m\u001b[0;34m\u001b[0m\u001b[0;34m\u001b[0m\u001b[0m\n\u001b[0m\u001b[1;32m      5\u001b[0m \u001b[0mprint\u001b[0m\u001b[0;34m(\u001b[0m\u001b[0;34m\"summ of two number is:\"\u001b[0m\u001b[0;34m,\u001b[0m\u001b[0msum\u001b[0m\u001b[0;34m)\u001b[0m\u001b[0;34m\u001b[0m\u001b[0;34m\u001b[0m\u001b[0m\n",
            "\u001b[0;31mValueError\u001b[0m: invalid literal for int() with base 10: '-f'"
          ]
        }
      ]
    },
    {
      "cell_type": "markdown",
      "metadata": {
        "id": "f-mIz3pO6Fjg"
      },
      "source": [
        " b)Take two numbers on command line arguments and print the sum.\n",
        "\n",
        "Aim :\n",
        "\n",
        "To take numbers on command line arguments and print the sum.\n",
        "\n",
        "Description :\n",
        "\n",
        "The arguments that are given after the name of the program in the command line shell of the operating system are known as Command Line Arguments."
      ]
    },
    {
      "cell_type": "markdown",
      "metadata": {
        "id": "w6MNzV0j9ekk"
      },
      "source": [
        " Exercise - 3 Control Flow\n",
        "\n",
        "AIM:\n",
        "a) Write a Program for checking whether the given number is an even number or not.\n",
        "\n",
        "DESCRIPTION:\n",
        "if..else Statement When there is an alternate operation in control flow, use an else statement \n",
        "alongside with if statement. The general format is\n",
        "if condition:\n",
        "else:\n",
        "false statement"
      ]
    },
    {
      "cell_type": "code",
      "metadata": {
        "colab": {
          "base_uri": "https://localhost:8080/"
        },
        "id": "-LUzmXk20FLp",
        "outputId": "f32fb348-01bd-47cf-8b86-97210530293d"
      },
      "source": [
        " n=int(input(\"enter a number:\"))\n",
        "if (n%2)==0:\n",
        "        print(\"given number is even\")\n",
        "else:\n",
        "      print(\"given number is odd\")"
      ],
      "execution_count": null,
      "outputs": [
        {
          "output_type": "stream",
          "text": [
            "enter a number:65\n",
            "given number is odd\n"
          ],
          "name": "stdout"
        }
      ]
    },
    {
      "cell_type": "markdown",
      "metadata": {
        "id": "Gq7JdyT693MJ"
      },
      "source": [
        " AIM:\n",
        "\n",
        "b) Using a for loop, write a program that prints out the decimal equivalents of 1/2, 1/3, 1/4, . .\n",
        ".1/10\n",
        "\n",
        "DESCRIPTION\n",
        "\n",
        "For Loop: For loops can iterate over a sequence of numbers using the \"range\" and \"xrange\"\n",
        "functions. The difference between range and xrange is that the range function returns a new list \n",
        "with numbers of that specified range, whereas xrange returns an iterator, which is more eficient.\n",
        "The general format is\n",
        "for x in range(start,stop,step): \n",
        "statements"
      ]
    },
    {
      "cell_type": "code",
      "metadata": {
        "colab": {
          "base_uri": "https://localhost:8080/"
        },
        "id": "GsVt_JFB0MNT",
        "outputId": "4b37acba-eb34-4854-cf37-dbab8dd40c05"
      },
      "source": [
        " n=int(input(\"enter a number:\"))\n",
        "for i in range(2,n):\n",
        "    de=1/i;\n",
        "    print(\"1/\",i,\"=\",de)"
      ],
      "execution_count": null,
      "outputs": [
        {
          "output_type": "stream",
          "text": [
            "enter a number:3\n",
            "1/ 2 = 0.5\n"
          ],
          "name": "stdout"
        }
      ]
    },
    {
      "cell_type": "markdown",
      "metadata": {
        "id": "1WdPPgeS97dS"
      },
      "source": [
        " \n",
        "AIM\n",
        " \n",
        "c) Write a program using a for loop that loops over a sequence. What is sequence?\n",
        "\n",
        "DESCRIPTION:\n",
        "For Loop: For loops can iterate over a sequence of numbers using the \"range\" and \"xrange\"\n",
        "functions. The difference between range and xrange is that the range function returns a new list \n",
        "with numbers of that specified range, whereas xrange returns an iterator, which is more eficient.\n",
        "The general format is\n",
        "for x in range(start,stop,step): \n",
        "statements\n",
        "\n",
        "PROGRAM"
      ]
    },
    {
      "cell_type": "code",
      "metadata": {
        "colab": {
          "base_uri": "https://localhost:8080/"
        },
        "id": "9qBT-x4H0WRz",
        "outputId": "400eeeb8-0b50-4db0-bf54-8fc6add8d1c6"
      },
      "source": [
        " #program using a for a loop that loops over a sequence\n",
        "print(\"loop sequence\")\n",
        "num=[45,25,2,28,3,25]\n",
        "for i in num:\n",
        "    print(i)\n",
        " \n",
        "#string sequence\n",
        "print(\"string sequence\")\n",
        "days=[\"sun\",\"mon\",\"tue\",\"wed\",\"thur\",\"fri\",\"st\"]\n",
        "for d in days:\n",
        "    print(d)\n",
        "    \n",
        "#bothh sequence\n",
        "print(\"sequence\")\n",
        "arr=[123,\"abc\",5.6,'h',-33,\"xy\",True]\n",
        "for x in arr:\n",
        "      print(x)"
      ],
      "execution_count": null,
      "outputs": [
        {
          "output_type": "stream",
          "text": [
            "loop sequence\n",
            "45\n",
            "25\n",
            "2\n",
            "28\n",
            "3\n",
            "25\n",
            "string sequence\n",
            "sun\n",
            "mon\n",
            "tue\n",
            "wed\n",
            "thur\n",
            "fri\n",
            "st\n",
            "sequence\n",
            "123\n",
            "abc\n",
            "5.6\n",
            "h\n",
            "-33\n",
            "xy\n",
            "True\n"
          ],
          "name": "stdout"
        }
      ]
    },
    {
      "cell_type": "markdown",
      "metadata": {
        "id": "3jtyMp9P-P04"
      },
      "source": [
        " AIM:\n",
        " \n",
        "D) Write a program using a while loop that asks the user for a number, and prints a \n",
        "countdownfrom that number to zero.\n",
        " \n",
        "DESCRIPTION:\n",
        "While Loop is used to execute a block of statements repeatedly until a given condition is \n",
        "satisfied. And when the condition becomes false, the line immediately after the loop in the \n",
        "program is executed. While loop falls under the category of indefinite iteration \n",
        "The syntax for a while loop is: \n",
        "while [ condition]"
      ]
    },
    {
      "cell_type": "code",
      "metadata": {
        "colab": {
          "base_uri": "https://localhost:8080/"
        },
        "id": "2pIPGwMx0p0s",
        "outputId": "e6f4f91a-4d9a-4768-9619-e2efa6ccf9e1"
      },
      "source": [
        " #countdown seq\n",
        "n=int(input(\"enter the numbr:\"))\n",
        "while n>0:\n",
        "      print(n)\n",
        "      n=n-1"
      ],
      "execution_count": null,
      "outputs": [
        {
          "output_type": "stream",
          "text": [
            "enter the numbr:5\n",
            "5\n",
            "4\n",
            "3\n",
            "2\n",
            "1\n"
          ],
          "name": "stdout"
        }
      ]
    },
    {
      "cell_type": "markdown",
      "metadata": {
        "id": "2ydDpVfn-SSe"
      },
      "source": [
        " Exercise 4 - Control Flow - Continued\n",
        " \n",
        "AIM:\n",
        "a) Find the sum of all the primes below two million. Each new term in the Fibonacci sequence is \n",
        "generated by adding the previous two terms. Bystarting with 1 and 2, the first 10 terms will be: 1, \n",
        "2, 3, 5, 8, 13, 21, 34, 55, 89, ...\n",
        "\n",
        "DESCRIPTION:\n",
        "A Fibonacci sequence is the integer sequence of 0, 1, 1, 2, 3, 5, 8....\n",
        "The first two terms are 0 and 1. All other terms are obtained by adding the preceding two terms. \n",
        "This means to say the nth term is the sum of (n-1)th and (n-2)th term\n",
        "Here, we store the number of terms in nterms. We initialize the first term to 0 and the second \n",
        "term to 1.\n",
        "If the number of terms is more than 2, we use a while loop to find the next term in the sequence \n",
        "by adding the preceding two terms. We then interchange the variables (update it) and continue \n",
        "on with the process.\n",
        " \n",
        "PROGRAM:"
      ]
    },
    {
      "cell_type": "code",
      "metadata": {
        "colab": {
          "base_uri": "https://localhost:8080/"
        },
        "id": "HmVLaI060yRc",
        "outputId": "9f4b5393-96a6-46b5-8443-72ce4d5adbd3"
      },
      "source": [
        " n=int(input(\"enter   a anum:\"))\n",
        "a=0\n",
        "b=1\n",
        "c=a+b\n",
        "st=\"\"\n",
        "sum=0\n",
        "con=0\n",
        "while con<=n:\n",
        "    st+=\"\"+str(c)\n",
        "    sum+=c        \n",
        "    a=b\n",
        "    b=c \n",
        "    c=a+b\n",
        "    con+=1\n",
        "print(st)\n",
        "print(\"sum of fibonacii series:\",sum)"
      ],
      "execution_count": null,
      "outputs": [
        {
          "output_type": "stream",
          "text": [
            "enter   a anum:5\n",
            "1235813\n",
            "sum of fibonacii series: 32\n"
          ],
          "name": "stdout"
        }
      ]
    },
    {
      "cell_type": "markdown",
      "metadata": {
        "id": "w0Ltt3Wz-pxC"
      },
      "source": [
        " AIM:\n",
        "\n",
        "b) By considering the terms in the Fibonacci sequence whose values do not exceed four \n",
        "million,find the sum of the even-valued terms.\n",
        "\n",
        "DESCRIPTION:\n",
        "A Fibonacci sequence is the integer sequence of 0, 1, 1, 2, 3, 5, 8....\n",
        "The first two terms are 0 and 1. All other terms are obtained by adding the preceding two terms. \n",
        "This means to say the nth term is the sum of (n-1)th and (n-2)th term\n",
        "Here, we store the number of terms in nterms. We initialize the first term to 0 and the second \n",
        "term to 1.\n",
        "If the number of terms is more than 2, we use a while loop to find the next term in the sequence \n",
        "by adding the preceding two terms. We then interchange the variables (update it) and continue \n",
        "on with the process.\n",
        "\n",
        "PROGRAM:"
      ]
    },
    {
      "cell_type": "code",
      "metadata": {
        "id": "72GaPHES04Jd"
      },
      "source": [
        " n=int(input(\"enter a number:\"))\n",
        "c=0\n",
        " \n",
        " \n",
        "st=\"\"\n",
        "sum=0\n",
        " \n",
        "for i in range(2,n):\n",
        " state=True\n",
        "for j in range(2,i):\n",
        " if(i%j==0):\n",
        "        state=False\n",
        "        break;\n",
        "if state==True:\n",
        "            st+=\"\"+str(i)\n",
        "            c+=1\n",
        "            sum+=i\n",
        " \n",
        "print(\"prime numbers\")\n",
        "print(st)\n",
        " \n",
        "print(\"total count of the prime numbers:\",c)\n",
        "print(\"sum of all prime nums:\",sum)"
      ],
      "execution_count": null,
      "outputs": []
    },
    {
      "cell_type": "markdown",
      "metadata": {
        "id": "YCjiqkYV-1cz"
      },
      "source": [
        " Exercise - 5 - DS\n",
        "\n",
        "AIM:\n",
        "a) Write a program to count the numbers of characters in the string and store them in \n",
        "adictionary data structure\n",
        "\n",
        "DESCRIPTION:\n",
        "Given a string, the task is to find the frequencies of all the characters in that string and return a \n",
        "dictionary with key as the character and its value as its frequency in the given string.\n",
        "Method #1 : Naive method\n",
        "Simply iterate through the string and form a key in dictionary of newly occurred element or if \n",
        "element is already occurred, increase its value by 1.\n",
        "Method #2 : Using collections.Counter()\n",
        "The most suggested method that could be used to find all occurrences is this method, this \n",
        "actually gets all element frequency and could also be used to print single element frequency if \n",
        "required.\n",
        "\n",
        "PROGRAM:"
      ]
    },
    {
      "cell_type": "code",
      "metadata": {
        "colab": {
          "base_uri": "https://localhost:8080/"
        },
        "id": "T207QLVp1dPv",
        "outputId": "f7c8ac85-93eb-43c5-ffff-a67c82eb7114"
      },
      "source": [
        " name=input(\"enter anmae:\")\n",
        "dic={}\n",
        "for ch in name:\n",
        "    keys=dic.keys()\n",
        " \n",
        "    if(ch in keys):\n",
        "        dic[ch]=dic[ch]+1\n",
        "    else:\n",
        "        dic[ch]=1\n",
        " \n",
        "print(\"dictinarry is:\",dic)"
      ],
      "execution_count": null,
      "outputs": [
        {
          "output_type": "stream",
          "text": [
            "enter anmae:Python\n",
            "dictinarry is: {'P': 1, 'y': 1, 't': 1, 'h': 1, 'o': 1, 'n': 1}\n"
          ],
          "name": "stdout"
        }
      ]
    },
    {
      "cell_type": "markdown",
      "metadata": {
        "id": "x6LYlvkP-7_i"
      },
      "source": [
        " AIM:\n",
        "\n",
        "b) Write a program to use split and join methods in the string and trace a birthday with \n",
        "adictionary data structure\n",
        "\n",
        "DESCRIPTION:\n",
        "Python program to Split a string based on a delimiter and join the string using another delimiter.\n",
        "Split a string can be quite useful sometimes, especially when you need only certain parts of \n",
        "strings. A simple yet effective example is splitting the First-name and Last-name of a person.\n",
        "Another application is CSV(Comma Separated Files). We use split to get data from CSV and join \n",
        "to write data to CSV.\n",
        "In Python, we can use the function split() to split a string and \n",
        "join() to join a string.\n",
        "\n",
        "PROGRAM"
      ]
    },
    {
      "cell_type": "code",
      "metadata": {
        "id": "R1b-RAzL1kGu"
      },
      "source": [
        " dob={\"subhashini\":\"24-11-2001\",\"slsd\":\"14-04-2002\"}\n",
        "name=input(\"enter which person dob u want:\")\n",
        "l=name.split()\n",
        "birth=\"\"\n",
        "for i in l:\n",
        "    if i in dob.keys():\n",
        "        pers=i\n",
        " \n",
        "print(\"\".join([pers,\"birthdayis:\",dob[pers]]))"
      ],
      "execution_count": null,
      "outputs": []
    },
    {
      "cell_type": "markdown",
      "metadata": {
        "id": "LRkdkm59_BlQ"
      },
      "source": [
        " Exercise - 6 DS - Continued\n",
        "\n",
        "AIM:\n",
        "a) Write a program combinelists that combines these lists into a dictionary.\n",
        "\n",
        "DESCRIPTION:\n",
        " \n",
        "For this, simply declare a dictionary, and then run nested loop for both the lists and assign key \n",
        "and value pairs to from list values to dictionary.\n",
        "Most pythonic and generic method to perform this very task is by using zip(). This function pairs \n",
        "the list element with other list element at corresponding index in form of key-value pairs.\n",
        "\n",
        "PROGRAM"
      ]
    },
    {
      "cell_type": "code",
      "metadata": {
        "colab": {
          "base_uri": "https://localhost:8080/"
        },
        "id": "3LepBJt-2JAi",
        "outputId": "5fbe8a88-fddb-4ca6-b1b1-6d9e48789516"
      },
      "source": [
        " sub=[\"daa\",\"os\",\"dbms\",\"p&s\",\"ppl\",\"se\"]\n",
        "marks=[85,96,75,65,83,56]\n",
        "print(sub)\n",
        "print(marks)\n",
        "dic=dict(zip(sub,marks))\n",
        "print(dic)"
      ],
      "execution_count": null,
      "outputs": [
        {
          "output_type": "stream",
          "text": [
            "['daa', 'os', 'dbms', 'p&s', 'ppl', 'se']\n",
            "[85, 96, 75, 65, 83, 56]\n",
            "{'daa': 85, 'os': 96, 'dbms': 75, 'p&s': 65, 'ppl': 83, 'se': 56}\n"
          ],
          "name": "stdout"
        }
      ]
    },
    {
      "cell_type": "markdown",
      "metadata": {
        "id": "jCa2RVGv_NgV"
      },
      "source": [
        " AIM:\n",
        "\n",
        "b) Write a program to count frequency of characters in a given file. Can you use\n",
        "characterfrequency to tell whether the given file is a Python program file, C program file or a text \n",
        "file?\n",
        "\n",
        "DESCRIPTION:\n",
        "approaches to count the number of times a letter appears in a text file in Python. \n",
        "Method 1: Using the in-built count() method.\n",
        "Approach:\n",
        "1. Read the file.\n",
        "2. Store the content of the file in a variable.\n",
        "3. Use the count() method with the argument as a letter whose frequency is required.\n",
        "4. Display the count of the letter.\n",
        "\n",
        "PROGRAM"
      ]
    },
    {
      "cell_type": "code",
      "metadata": {
        "id": "9YzX53fw2SD8"
      },
      "source": [
        " filetypes=['.py','.c','.txt']\n",
        "fn=input(\"enter a file name:\")\n",
        "f=open(fn,\"r\")\n",
        "count=dict()\n",
        "for  ft in filetypes:\n",
        "     if(ft in  fn):\n",
        "           if(ft==\".py\"):\n",
        "             print(\"python file\")\n",
        "           elif(ft==\".c\"):\n",
        "             print(\"cfile\")\n",
        "           elif(ft==\".txt\"):\n",
        "             print(\"text file\")\n",
        " \n",
        " \n",
        "for line in f:\n",
        "     for ch in line:\n",
        "          if ch in count:\n",
        "               count[ch]=count[ch]+1\n",
        " \n",
        "          else:\n",
        "              count[ch]=1\n",
        " \n",
        " \n",
        "print(count)\n",
        "f.close()"
      ],
      "execution_count": null,
      "outputs": []
    },
    {
      "cell_type": "markdown",
      "metadata": {
        "id": "8UQowI1Y_T_7"
      },
      "source": [
        " Exercise - 7 Files\n",
        "\n",
        "AIM\n",
        "a) Write a program to print each line of a file in reverse order.\n",
        "\n",
        "DESCRIPTION:\n",
        "The file handling plays an important role when the data needs to be stored permanently into the \n",
        "file. A file is a named location on disk to store related information. We can access the stored\n",
        "information (non-volatile) after the program termination. In Python, files are treated in two \n",
        "modes as text or binary. The file may be in the text or binary format, and each line of a file is \n",
        "ended with the special character. Hence, a file operation can be done in the following order.\n",
        "□ Open a file\n",
        "□ Read or write - Performing operation\n",
        "□ Close the file\n",
        "\n",
        "PROGRAM:"
      ]
    },
    {
      "cell_type": "code",
      "metadata": {
        "id": "zdNiD2mv2c89"
      },
      "source": [
        " obj=open(\"sam.txt\",\"r\")\n",
        "if obj:\n",
        "    st=obj.read()\n",
        "    print(\"file content is:\")\n",
        "obj.close()\n",
        "print()\n",
        "lines=st.split('\\n')\n",
        "for ln in lines:\n",
        "    i=len(ln)-1\n",
        "    while(i>=0):\n",
        "      print(ln[i],end='')\n",
        "      i=i-1\n",
        "    print()"
      ],
      "execution_count": null,
      "outputs": []
    },
    {
      "cell_type": "markdown",
      "metadata": {
        "id": "5LSMmSLU_Z37"
      },
      "source": [
        " AIM:\n",
        "\n",
        "b) Write a program to compute the number of characters, words and lines in a file\n",
        "\n",
        "DESCRIPTION:\n",
        "Given a text file fname, the task is to count the total number of characters, words, spaces and \n",
        "lines in the file.\n",
        "As we know, Python provides multiple in-built features and modules for handling files. Let’s\n",
        "discuss different ways to calculate total number of characters, words, spaces and lines in a file \n",
        "using Python.\n",
        "Method #1: Naive approach\n",
        "In this approach, the idea is to solve the task by developing our own logic. Without using any \n",
        "built-in function of Python, the total number of characters, words, spaces and lines of the file will \n",
        "be calculated.\n",
        "Method #2: Using some built-in functions and OS module functions\n",
        "In this approach, the idea is to use the os.linesep() method of OS module to separate the lines \n",
        "on the current platform. When the interpreter’s scanner encounter os.linesep it replaces it with\n",
        "\\n character. After that strip() and split() functions will be used to carry out the task.\n",
        "\n",
        "PROGRAM"
      ]
    },
    {
      "cell_type": "code",
      "metadata": {
        "id": "FTx5GhwA_7r7"
      },
      "source": [
        " \n",
        "nc=nw=nl=0 \n",
        "file=open(\"abc.txt\",\"r\")\n",
        "nl=nw=nc=0 \n",
        "print(\"File content:\\n\") \n",
        "for line in file:\n",
        "ln=line.strip(\"\\n\") \n",
        "print(ln) \n",
        "words=ln.split()\n",
        "nl+=1 \n",
        "nw+=len(words) \n",
        "nc+=len(line)\n",
        "file.close()\n",
        "print(\"\\n No.of lines:\",nl,\"words:\",nw,\"characters:\",nc)"
      ],
      "execution_count": null,
      "outputs": []
    },
    {
      "cell_type": "markdown",
      "metadata": {
        "id": "gPApJ0bpANY6"
      },
      "source": [
        " Exercise - 8 Functions\n",
        "\n",
        "AIM:\n",
        "a) Write a function ball collide that takes two balls as parameters and computes if they \n",
        "arecolliding. Your function should return a Boolean representing whether or not the balls \n",
        "arecolliding.\n",
        "Hint: Represent a ball on a plane as a tuple of (x, y, r), r being the radius If (distance between two \n",
        "balls centers) <= (sum of their radii) then (they are colliding)\n",
        "\n",
        "DESCRIPTION\n",
        "Functions A function in python is a block of code that is defined for doing frequent operations in \n",
        "a particular task. The general format is\n",
        "def Functionname(arguments):\n",
        "Statements\n",
        "Calling a Function:\n",
        "A function can be called by its name followed by arguments within parenthesis. \n",
        "function()\n",
        "\n",
        "PROGRAM:"
      ]
    },
    {
      "cell_type": "code",
      "metadata": {
        "id": "xpoygjA_2zNN"
      },
      "source": [
        " import math\n",
        "def ballcollide(b1tup,b2tup):\n",
        "    x1=b1tup[0]\n",
        "    y1=b1tup[1]\n",
        "    x2=b2tup[0]\n",
        "    y2=b2tup[1]\n",
        "    r1=b1tup[2]\n",
        "    r2=b2tup[2]\n",
        " \n",
        " \n",
        "    d=math.sqrt((x2-x1)**2+(y2-y1)**2)\n",
        "    if(d<=r1+r2):\n",
        "      return True\n",
        "    else:\n",
        "        return False\n",
        " \n",
        " \n",
        "ball1=(1,2,3)\n",
        "ball2=(3,2,1)\n",
        "c=ballcollide(ball1,ball2)\n",
        "if(c):\n",
        "    print(\"balls are collided\")\n",
        "else:\n",
        "    print(\"ball are not collided\")"
      ],
      "execution_count": null,
      "outputs": []
    },
    {
      "cell_type": "markdown",
      "metadata": {
        "id": "AEm-pjieAVU7"
      },
      "source": [
        " AIM:\n",
        "\n",
        "b) Find mean, median, mode for the given set of numbers in a list\n",
        "\n",
        "DESCRIPTION\n",
        "Mean : The mean is the average of all numbers and is sometimes called the arithmetic mean. \n",
        "This code calculates Mean or Average of a list containing numbers:\n",
        "Median : The median is the middle number in a group of numbers. This code calculates Median \n",
        "of a list containing numbers:\n",
        "Mode : The mode is the number that occurs most often within a set of numbers. This code \n",
        "calculates Mode of a list containing numbers:\n",
        "We will import Counter from collections library which is a built-in module in Python 2 and 3. This \n",
        "module will help us count duplicate elements in a list. We define a list of numbers and calculate \n",
        "the length of the list. We then call Counter (a dict subclass) which helps to count hashable \n",
        "objects, and we then convert it to dict object. We then initialize a list with a For Loop to compare \n",
        "all the dict values (Number of elements) to the max of all dict values (count of most occurring \n",
        "element) and it returns all the elements equal to max count. If the elements returned are equal to \n",
        "the number of total elements in a list then we print out ‘No mode’, else we print out the modes \n",
        "returned.\n",
        "\n",
        "PROGRAM:"
      ]
    },
    {
      "cell_type": "code",
      "metadata": {
        "id": "xzlDBcju28Dz"
      },
      "source": [
        " def mean(numlist):\n",
        "    return sum(numlist)/len(numlist)\n",
        "def median(numlist):\n",
        "    numlist.sort()\n",
        "    print(numlist)\n",
        "    n=len(numlist)\n",
        "    print(\"total\",n)\n",
        "    mid=n//2\n",
        "    print(\"mid:\",mid)\n",
        "    if(n%2==0):\n",
        "        return numlist[mid]\n",
        "    else:\n",
        "        return (numlist[mid-1]+numlist[mid])/2\n",
        "def mode(numlist):\n",
        "    numlist.sort()\n",
        "    temp=[]\n",
        "    i=0\n",
        "    while i<len(numlist):\n",
        "        temp.append(numlist.count(numlist[i]))\n",
        "        i+=1\n",
        "    dic=dict(zip(numlist,temp))\n",
        "    modes={k for k, v in dic.items() if(v==max(temp))}\n",
        "    return modes\n",
        "list=[1,1,2,2,3,4,5,3,3]\n",
        "print(\"mean of guive list:\",mean(list))\n",
        "print(\"median of guive list:\",median(list))\n",
        " \n",
        "print(\"mode of guive list:\",mode(list))"
      ],
      "execution_count": null,
      "outputs": []
    },
    {
      "cell_type": "markdown",
      "metadata": {
        "id": "fkPauTuiAbGQ"
      },
      "source": [
        " Exercise - 9 Functions - Continued\n",
        "\n",
        "AIM:\n",
        "a) Write a function nearly equal to test whether two strings are nearly\n",
        "\n",
        "DESCRIPTION:\n",
        "strlen() function is used to check wether the two string are nearly equal or not by basis of the \n",
        "Length of those Strings\n",
        "len() function is an inbuilt function in Python programming language that returns the length of \n",
        "the string.\n",
        "len() is a built-in function in python.You can use the len() to get the length of the given string, \n",
        "array, list, tuple, dictionary, etc.\n",
        "Value: the given value you want the length of.\n",
        "Return value a return an integer value i.e. the length of the given string, or array, or list, or \n",
        "collections.\n",
        "Syntax:\n",
        "\n",
        "PROGRAM"
      ]
    },
    {
      "cell_type": "code",
      "metadata": {
        "id": "jRhoPboW3NjU"
      },
      "source": [
        " def nearlyeq(str1,str2):\n",
        "    count=0\n",
        "    i=j=0\n",
        "    ss=0\n",
        "    while(i<len(str1)and j<len(str2)):\n",
        "        if(str1[i]!=str2[j]):\n",
        "            count+=1\n",
        "        if(len(str1)>len(str2)):\n",
        "            i+=1\n",
        " \n",
        "        elif(len(str1)==len(str2)):\n",
        "            pass\n",
        "        else:\n",
        "            i-=1     \n",
        "        if(count>1):\n",
        "             ss-=1\n",
        "             \n",
        "        i+=1\n",
        "        j+=1\n",
        "        if(count<2):\n",
        "             ss+=1\n",
        " \n",
        "    return ss\n",
        "s1=input(\"enter a string 1:\")\n",
        "s2=input(\"enter the string2:\")\n",
        "t=nearlyeq(s1,s2)\n",
        "if(t>1):\n",
        "    print(\"neraly equal0\")\n",
        "else:\n",
        "    print(\"not nearly equal\")"
      ],
      "execution_count": null,
      "outputs": []
    },
    {
      "cell_type": "markdown",
      "metadata": {
        "id": "GpkpgI_IAlqp"
      },
      "source": [
        " AIM:\n",
        "\n",
        "b) Write a function dup to find all duplicates in the list.\n",
        "\n",
        "DESCRIPTION:\n",
        "To check if a list contains any duplicate element follow the following steps,\n",
        "1. Add the contents of list in a set.\n",
        "As set contains only unique elements, so no duplicates will be added the the set.\n",
        "2. Compare the size of set and list.\n",
        "If size of list & set is equal then it means no duplicates in list.\n",
        "3. If size of list & set are different then it means yes, there are duplicates in list.\n",
        "\n",
        "PROGRAM"
      ]
    },
    {
      "cell_type": "code",
      "metadata": {
        "id": "SL9a6k5q3VaM"
      },
      "source": [
        " def dup(list):\n",
        "  list1=[]\n",
        "  for i in list:\n",
        "    count=list.count(i)\n",
        "    if(count>1 and (i not in list1)):\n",
        "        list1.append(i)\n",
        "        \n",
        "  print(\"the dups int he list are:\",list1)        \n",
        "list2=[1,2,1,2]\n",
        " \n",
        "dup(list2)"
      ],
      "execution_count": null,
      "outputs": []
    },
    {
      "cell_type": "markdown",
      "metadata": {
        "id": "3im3X2XSAzF7"
      },
      "source": [
        " AIM:\n",
        "\n",
        "c) Write a function unique to find all the unique elements of a list.\n",
        "\n",
        "DESCRIPTION:\n",
        "To find the unique in the list .There is a Specific Method i.e., \n",
        "Method : Traversal of list\n",
        "Using traversal, we can traverse for every element in the list and check if the element is in the \n",
        "unique_list already if it is not over there, then we can append it in the unique_list.\n",
        "This is done using one for loop and other if statement which check if the value is in the unique \n",
        "list or not which is equivalent to another for loop.\n",
        "\n",
        "PROGRAM:"
      ]
    },
    {
      "cell_type": "code",
      "metadata": {
        "id": "U3twMLRn3hcV"
      },
      "source": [
        " def unique(list1):\n",
        "  list2={}\n",
        " \n",
        "  for i in list1:\n",
        "    c=list1.count(i)\n",
        "    if c==1:\n",
        "      list2[i]=c\n",
        "  print(\"the unique elements in the list are:\",list2)\n",
        " \n",
        "list=[1,2,3,45,45,6,88,88,9]\n",
        "unique(list)"
      ],
      "execution_count": null,
      "outputs": []
    },
    {
      "cell_type": "markdown",
      "metadata": {
        "id": "NjQDkCpSA5NS"
      },
      "source": [
        " Exercise - 10 - Functions - Problem Solving\n",
        "\n",
        "AIM:\n",
        "a) Write a function cumulative product to compute cumulative product of a list of numbers.\n",
        "\n",
        "DESCRIPTION:\n",
        "A cumulative product is a sequence of partial products of a given sequence. For example, the \n",
        "cumulative products of the sequence. , are , , .. Cumulative products can be implemented in the \n",
        "Wolfram Language as Rest[FoldList[Times, 1, list]]\n",
        "cumprod(A,1) works on successive elements in the columns of A and returns the \n",
        "cumulative products of each column. cumprod(A,2) works on successive elements in the \n",
        "rows of A and returns the cumulative products of each row.\n",
        "umprod() function is used when we want to compute the cumulative product of array elements \n",
        "over a given axis. Syntax : numpy.cumprod(arr, axis=None, dtype=None, out=None) Parameters : \n",
        "arr : [array_like] Array containing numbers whose cumulative product is desired.\n",
        "\n",
        "PROGRAM"
      ]
    },
    {
      "cell_type": "code",
      "metadata": {
        "id": "waoD3NvR3sD1"
      },
      "source": [
        " def cumulative_product(list1,n):\n",
        "    list2=[]\n",
        "    i=0\n",
        "    list2.append(list1[i])\n",
        "    for i in range(1,n):\n",
        "        v=list1[i]*list2[i-1]\n",
        "        list2.append(v)\n",
        "        \n",
        "    print(list2)\n",
        "list3=[]\n",
        "n=int(input(\"enter size :\"))\n",
        "print(\"enter the data:\")\n",
        "for i in range(0,n):\n",
        "    x=int(input())\n",
        "    list3.append(x)\n",
        "cumulative_product(list3,n)"
      ],
      "execution_count": null,
      "outputs": []
    },
    {
      "cell_type": "markdown",
      "metadata": {
        "id": "GGObjaPVBARA"
      },
      "source": [
        " AIM:\n",
        "\n",
        "b) Write a function reverse to reverse a list. Without using the reverse function.\n",
        "\n",
        "DESCRIPTION:\n",
        "In this Python code snippet post, we are going to implement a list reverse function from the \n",
        "scratch without using any builtin functions.\n",
        "Let us see how… \n",
        "Iterative solution\n",
        "We can use a for loop to swap the first and last items, the second and the one before the last\n",
        "item and so on until the list is reversed in place. The number of iterations needed is half the list \n",
        "size. If the list has an odd number of items then the middle item will stay in its place.\n",
        "\n",
        "PROGRAM:"
      ]
    },
    {
      "cell_type": "code",
      "metadata": {
        "id": "lwR5mtjA3yGu"
      },
      "source": [
        " def reverse_list(numlist):\n",
        "    temp=list1[::-1]\n",
        "    numlist=temp\n",
        "    return temp\n",
        "list1=[1,2,3,4]\n",
        "print(\"giiven list is :\",list1)\n",
        "print(\"after reverse function:\",reverse_list(list1))\n",
        "print(\"after list is:\",list1)"
      ],
      "execution_count": null,
      "outputs": []
    },
    {
      "cell_type": "markdown",
      "metadata": {
        "id": "V7wpFnueBE7K"
      },
      "source": [
        " AIM:\n",
        "\n",
        "c) Write function to compute gcd, lcm of two numbers. Each function shouldn’t exceed one line.\n",
        "\n",
        "DESCRIPTION:\n",
        " \n",
        "Python provides you an anonymous function called lambda. It can take any number of \n",
        "arguments, but can only have one expression. It can be used to find LCM and GCD values \n",
        "without exceeding each from from one line.\n",
        "The general format is\n",
        "lambda arguments: expression\n",
        "The expression is executed during the function call and the result is returned.\n",
        "Lambda as a Function\n",
        "The power of using a lambda expression is implementing it using a function\n",
        "\n",
        "PROGRAM:"
      ]
    },
    {
      "cell_type": "code",
      "metadata": {
        "id": "l5DYf19h32PS"
      },
      "source": [
        " gcd=lambda a,b: a if b==0 else gcd(a,a%b)\n",
        "lcm=lambda a,b: (a*b)/gcd(a,b)\n",
        " \n",
        "x=4\n",
        "y=24\n",
        "print(\"gcd=\",gcd(x,y))\n",
        "print(\"lcm=\",lcm(x,y))"
      ],
      "execution_count": null,
      "outputs": []
    },
    {
      "cell_type": "markdown",
      "metadata": {
        "id": "8eqhsezwBPXq"
      },
      "source": [
        " Exercise 11 - Multi-D Lists\n",
        "\n",
        "AIM:\n",
        "a) Write a program that defines a matrix and prints\n",
        "\n",
        "DESCRIPTION:\n",
        "Lists are a very widely use data structure in python. They contain a list of elements separated by \n",
        "comma. But sometimes lists can also contain lists within them. These are called nested lists or \n",
        "multidimensional lists. In this article we will see how to create and access elements in a\n",
        "multidimensional list.\n",
        "Methods on Multidimensional lists\n",
        "1. append(): Adds an element at the end of the list.\n",
        "2. extend(): Add the elements of a list (or any iterable), to the end of the current list.\n",
        "3. reverse(): Reverses the order of the list.\n",
        "\n",
        "PROGRAM:"
      ]
    },
    {
      "cell_type": "code",
      "metadata": {
        "id": "PnCejYwoJ9f6"
      },
      "source": [
        " matA=[[]]\n",
        "rows=int(input(\"enter no of rows\"))\n",
        "colms=int(input(\"enter colms\"))\n",
        "matA=[[int(input(\"enter  [%d,%d] value :\"%(i,j)))for j in range(colms)]for i in range(rows)]\n",
        "print(\"matrix is\\n\")\n",
        " \n",
        "for i in range(rows):\n",
        "  for j in range(colms):\n",
        "    print(matA[i][j],end=\"\\t\")\n",
        "  print()"
      ],
      "execution_count": null,
      "outputs": []
    },
    {
      "cell_type": "markdown",
      "metadata": {
        "id": "ka4yuz8KBVPH"
      },
      "source": [
        " AIM:\n",
        "\n",
        "b) Write a program to perform addition of two square matrices\n",
        "\n",
        "DESCRIPTION:\n",
        "We can perform matrix addition in following ways in Python.\n",
        "1. Using for loop:\n",
        "Explanation :- In this program we have used nested for loops to iterate through each row and \n",
        "each column. At each point we add the corresponding elements in the two matrices and store it \n",
        "in the result.\n",
        "2. Using nested list comprehension :\n",
        "In Python, we can implement a matrix as nested list (list inside a list). We can treat each \n",
        "element as a row of the matrix.\n",
        "Explanation :-\n",
        "The output of this program is the same as above. We have used nested list comprehension to\n",
        "iterate through each element in the matrix. List comprehension allows us to write concise codes \n",
        "and we must try to use them frequently in Python. They are very helpful.\n",
        "3. uising zip function\n",
        "Explanation :\n",
        "The zip function accepts iterator i of each element(list) of matrix, mapping them, adding them \n",
        "using sum() and storing them in the map form.\n",
        "\n",
        "PROGRAM:"
      ]
    },
    {
      "cell_type": "code",
      "metadata": {
        "id": "7H44dy1OFB5P"
      },
      "source": [
        " def mat_read(rows,cols):\n",
        "    mat=[[int(input(\"Enter the mat[%d,%d] value \"%(i,j)))for j in range(cols)]for i in range (rows)]\n",
        "    return mat\n",
        "def print_mat(rows,cols,mat):\n",
        "    for i in range(rows):\n",
        "        for j in range (cols):\n",
        "            print(mat[i][j],end='\\t')\n",
        "        print()\n",
        "    \n",
        "matA=[[]]\n",
        "matB=[[]]\n",
        "mat_sum=[[]]\n",
        " \n",
        " \n",
        "rows=int(input(\"Enter the row size \"))\n",
        "cols=int(input(\"Enter the column size \"))\n",
        " \n",
        "if(rows==cols):\n",
        "    print(\"For matrix A\")\n",
        "    matA=mat_read(rows,cols)\n",
        "    \n",
        "    print(\"For matrix B\")\n",
        "    matB=mat_read(rows,cols)\n",
        "    \n",
        "    mat_sum=[[matA[i][j]+matB[i][j] for j in range(cols)]for i in range (rows)]\n",
        " \n",
        "    print(\"Matrix A \")\n",
        "    print_mat(rows,cols,matA)\n",
        "    \n",
        "    print(\"Matrix B \")\n",
        "    print_mat(rows,cols,matB)\n",
        "    \n",
        "    print(\"Matrix A+B = \")\n",
        "    print_mat(rows,cols,mat _sum)\n",
        "else:\n",
        "    print(\"Matrix Addition is not possible\")"
      ],
      "execution_count": null,
      "outputs": []
    },
    {
      "cell_type": "markdown",
      "metadata": {
        "id": "kG9i35zWBjqN"
      },
      "source": [
        " AIM:\n",
        "\n",
        "c) Write a program to perform multiplication of two square\n",
        "\n",
        "DESCRIPTION:\n",
        "In Python, we can implement a matrix as nested list (list inside a list). \n",
        "We can treat each element as a row of the matrix.\n",
        "For example X = [[1, 2], [4, 5], [3, 6]] would represent a 3x2 matrix.\n",
        "The first row can be selected as X[0]. And, the element in first row, first column can be selected \n",
        "as X[0][0].\n",
        "Multiplication of two matrices X and Y is defined only if the number of columns in X is equal to \n",
        "the number of rows Y.\n",
        "If X is a n x m matrix and Y is a m x l matrix then, XY is defined and has the dimension n x l (but \n",
        "YX is not defined). Here are a couple of ways to implement matrix multiplication in Python.\n",
        "\n",
        "PROGRAM:"
      ]
    },
    {
      "cell_type": "code",
      "metadata": {
        "id": "b5j6ITx3FR37"
      },
      "source": [
        " def mat_read(rows,cols):\n",
        "    mat=[[int(input(\"Enter the mat[%d,%d] value \"%(i,j)))for j in range(cols)]for i in range (rows)]\n",
        "    return mat\n",
        "def print_mat(rows,cols,mat):\n",
        "    for i in range(rows):\n",
        "        for j in range (cols):\n",
        "            print(mat[i][j],end='\\t')\n",
        "        print()\n",
        "    \n",
        "matA=[[]]\n",
        "matB=[[]]\n",
        "mat_mul=[[]]\n",
        " \n",
        " \n",
        "rows=int(input(\"Enter the row size \"))\n",
        "cols=int(input(\"Enter the column size \"))\n",
        " \n",
        "if(rows==cols):\n",
        "    print(\"For matrix A\")\n",
        "    matA=mat_read(rows,cols)\n",
        "    \n",
        "    print(\"For matrix B\")\n",
        "    matB=mat_read(rows,cols)\n",
        "    \n",
        "    mat_mul=[[0 for j in range(cols)]for i in range (rows)]\n",
        " \n",
        "    for i in range (rows):\n",
        "        for j in range(cols):\n",
        "            for k in range(cols):\n",
        "                mat_mul[i][j]+=matA[i][k]*matB[k][j]\n",
        " \n",
        "    print(\"Matrix A \")\n",
        "    print_mat(rows,cols,matA)\n",
        "    \n",
        "    print(\"Matrix B \")\n",
        "    print_mat(rows,cols,matB)\n",
        "    \n",
        "    print(\"Matrix A*B = \")\n",
        "    print_mat(rows,cols,mat_mul)\n",
        "else:\n",
        "    print(\"Matrix multiplication is not possible\")"
      ],
      "execution_count": null,
      "outputs": []
    },
    {
      "cell_type": "markdown",
      "metadata": {
        "id": "C95STju4BrDA"
      },
      "source": [
        " Exercise-12-Modules\n",
        "\n",
        "AIM:\n",
        "a) Install packages requests,flask and explore them using(pip)\n",
        "\n",
        "DESCRIPTION:\n",
        "Installing the pip Python package manager on Windows If you are on Windows, and your\n",
        "installed Python the current version, you already have pip! If your Python installation is not the \n",
        "most recent, the easiest thing to do is to simply reinstall it. Download the Python Windows\n",
        "installer at https://www.python.org/downloads/.\n",
        "In Windows, the variable that controls which programs are accessible from the command line is \n",
        "path. To modify your path to include Python and pip, we have to add C:\\Python27 and\n",
        "C:\\Python27\\Tools. Edit the Windows path by opening the Windows menu, right-clicking \n",
        "on Computer and clicking on Properties. Under Advanced system settings, click \n",
        "Environment Variables. Scroll down until you find Path, double-click it, and add\n",
        ";C:\\Python27;C:\\Python27\\Tools to the end.\n",
        "Installing packages:\n",
        "Suppose you want to install a package called requests (which is used to make HTTP requests). \n",
        "You need to issue the following command.\n",
        "pip install requests\n",
        "show installed packages\n",
        "You can use the following command to get information about a installed package, i.e Package \n",
        "name, version, location, dependencies.\n",
        "pip show package_name\n",
        "install flask\n",
        "On Mac and Linux, because you are installing programs outside the user-owned folders, you\n",
        "might have to prepend sudo to the install commands. To install Flask, simply run this:\n",
        "$ pip install flask\n",
        "show installed flask\n",
        "You can use the following command to get information about a installed flask, i.e Package \n",
        "name, version, location, dependencies\n",
        "$ pip show flask\n",
        "\n",
        "PROGRAM:"
      ]
    },
    {
      "cell_type": "code",
      "metadata": {
        "id": "wK9hbnJXCLqZ"
      },
      "source": [
        " \n",
        "The requests and flask packages are downloaded from internet using the following commands. \n",
        "c:\\phython3.9\\scripts>pip install requests\n",
        "c:\\phython3.9\\scripts>pip show requests \n",
        "c:\\phython3.9\\scripts>pip install flask\n",
        "c:\\phython3.9\\scripts>pip show flask"
      ],
      "execution_count": null,
      "outputs": []
    },
    {
      "cell_type": "markdown",
      "metadata": {
        "id": "L2K06xM0CUrn"
      },
      "source": [
        " AIM:\n",
        "\n",
        "b) Write a scripts that imports requests and fetch content from the page.Eg. (Wiki)code:\n",
        "\n",
        "DESCRIPTION:\n",
        "The Hypertext Transfer Protocol (HTTP) is an application protocol for distributed, collaborative, \n",
        "hypermedia information systems. HTTP is the foundation of data communication for the World \n",
        "Wide Web.\n",
        "Python requests\n",
        "Requests is a simple and elegant Python HTTP library. It provides methods for accessing Web \n",
        "resources via HTTP.\n",
        "Python requests reading a web page\n",
        "The get() method issues a GET request; it fetches documents identified by the given URL.\n",
        "\n",
        "PROGRAM:"
      ]
    },
    {
      "cell_type": "code",
      "metadata": {
        "id": "C8qt4qlEKeBk"
      },
      "source": [
        " import requests\n",
        "r=requests.get('https://www.google.com')\n",
        "print(\"status coed:\",r.status_code)\n",
        "print(\"header content:\",r.headers['content-type'])\n",
        "print(r.text)"
      ],
      "execution_count": null,
      "outputs": []
    },
    {
      "cell_type": "markdown",
      "metadata": {
        "id": "93MNEolNCbWM"
      },
      "source": [
        " AIM:\n",
        "\n",
        "c) Write a simple script that serves a simple HTTPResponse and Simple HTML page.\n",
        "\n",
        "DESCRIPTION:\n",
        "HTTP Protocol\n",
        "The most important part of a web server is HTTP protocol.So now we will see what exactly this \n",
        "is –\n",
        "It stands for Hyper Text Transfer Protocol.\n",
        "It is an application layer protocol that allows web based applications to communicate and \n",
        "exchange data.\n",
        "The HTTP is the messenger of web.\n",
        "The computer that communicate via the HTTP must speak the HTTP protocol. \n",
        "It is a TCP/IP based protocol.\n",
        "It is used to deliver contents, for eg. images, audios, videos, documents etc.\n",
        "Using HTTP is the most convenient way to quickly and reliably move data on the web.\n",
        "HTML stands for hypertext markup language. It is the standard markup language for web pages \n",
        "that define the structure of the content. These elements are the building blocks of any website\n",
        "\n",
        "PROGRAM:"
      ]
    },
    {
      "cell_type": "code",
      "metadata": {
        "id": "cYDqxcr5Kzju"
      },
      "source": [
        " from flask import Flask,render_template\n",
        "app=Flask(__name__)\n",
        "print(app)\n",
        "@app.route(\"/\")\n",
        "def main():\n",
        "  return render_template('login.html')\n",
        "  if __name__==\"__main__\":\n",
        "    app.run(host=\"127.0.0.1\",port=2500)"
      ],
      "execution_count": null,
      "outputs": []
    },
    {
      "cell_type": "markdown",
      "metadata": {
        "id": "T2qXDeCzCiQd"
      },
      "source": [
        " Exercise-13 OOP\n",
        " \n",
        "AIM:\n",
        "a)class variables and instance variable and illustration of the self -variable\n",
        " \n",
        "DESCRIPTION:\n",
        "Variables are named storage location. In python variables are not defined by its type instead it \n",
        "will be automatically determined by the value assigned to it. To determine the type of a variable \n",
        "a function called type () is used.\n",
        "class variableis shared by all object instances of a class.....They are not defined inside any\n",
        "methods of a class. Because a class variable is shared by instances of a class, the Python class \n",
        "owns the variable. As a result, all instances of the class will be able to access that variable\n",
        "Instance variables are owned by instances of the class. This means that for each object or\n",
        "instance of a class, the instance variables are different..... Instance variables, owned by objects\n",
        "of the class, allow for each object or instance to have different values assigned to those \n",
        "variables\n",
        "self variable is used to bind the instance of the class to the instance method. We have to \n",
        "explicitly declare it as the first method argument to access the instance variables and methods. \n",
        "This variable is used only with the instance methods.\n",
        " \n",
        "PROGRAM:\n",
        " \n",
        "1.ROBOT"
      ]
    },
    {
      "cell_type": "code",
      "metadata": {
        "id": "3C0kxLmhFzXo"
      },
      "source": [
        " class robot_design ():\n",
        "    name=\"chitti\"\n",
        "    speed=\"1ZB\"\n",
        "    memory=\"1TB\"\n",
        "    version=\"1.0\"\n",
        "    def update(self):\n",
        "        print(\"Entet your robot name,speed,memory,version\")\n",
        "        self.name=input()\n",
        "        self.speed=input()\n",
        "        self.memory=input()\n",
        "        self.version=input()\n",
        "    def display(self):\n",
        "        print(\"Your robot name,speed,memory,version is ::\",self.name,self.speed,self.memory,self.version)\n",
        " \n",
        "r=robot_design()\n",
        "r.update()\n",
        "r.display()"
      ],
      "execution_count": null,
      "outputs": []
    },
    {
      "cell_type": "markdown",
      "metadata": {
        "id": "WPfad7ZLCvPj"
      },
      "source": [
        " 2.ATM MACHINE"
      ]
    },
    {
      "cell_type": "code",
      "metadata": {
        "id": "VYZbraHkC19X"
      },
      "source": [
        " \n",
        "class ATM:\n",
        "def init (self): \n",
        "self.balance=0\n",
        "def enquire(self): \n",
        "print(\"Balance: \",self.balance)\n",
        "def deposit(self):\n",
        "amount=int(input(\"Enter the deposit amount:\")) \n",
        "self.balance+=amount\n",
        "self.enquire()\n",
        "def withdraw(self):\n",
        "amount=int(input(\"Enter the Withdraw amount:\")) \n",
        "if self.balance<amount:\n",
        "print(\"Insufficient Balance. ..!\")\n",
        "else:\n",
        "self.balance-=amount \n",
        "self.enquire()\n",
        "aobj=ATM() \n",
        "while(True):\n",
        "print(\"****Menu****\") \n",
        "print(\"1.Deposit\") \n",
        "print(\"2.Withdraw\") \n",
        "print(\"3 Balance\")\n",
        "print(\"0.Exit\")\n",
        "ch=int(input(\"Enter Your Choice: \")) \n",
        "if ch==0:\n",
        "break \n",
        "elif ch==1:\n",
        "aobj.deposit() \n",
        "elif ch==2:\n",
        "aobj.withdraw() \n",
        "elif ch==3:\n",
        "aobj.enquire() \n",
        "else:\n",
        "print(\"Invalid choice:\") \n",
        "pass\n",
        "****Menu**** \n",
        "1.Deposit \n",
        "2.Withdraw \n",
        "3.Balance \n",
        "0.Exit\n",
        "Enter Your Choice: 1\n",
        "Enter the deposit amount:5000 \n",
        "Balance: 5000\n",
        "****Menu**** \n",
        "1.Deposit \n",
        "2.Withdraw \n",
        "3.Balance \n",
        "0.Exit\n",
        "Enter Your Choice: 2\n",
        "Enter the Withdraw amount:3000 \n",
        "Balance: 2000\n",
        "****Menu**** \n",
        "1.Deposit \n",
        "2.Withdraw \n",
        "3.Balance \n",
        "0.Exit\n",
        "Enter Your Choice: 3 \n",
        "Balance: 2000\n",
        "****Menu**** \n",
        "1.Deposit \n",
        "2.Withdraw \n",
        "3.Balance \n",
        "0.Exit\n",
        "Enter Your Choice: 2\n",
        "Enter the Withdraw amount:4000 \n",
        "Insufficient Balance. ..!\n",
        "****Menu**** \n",
        "1.Deposit \n",
        "2.Withdraw \n",
        "3.Balance \n",
        "0.Exit\n",
        "Enter Your Choice: 0"
      ],
      "execution_count": null,
      "outputs": []
    },
    {
      "cell_type": "markdown",
      "metadata": {
        "id": "5YSR_M7tDCyo"
      },
      "source": [
        " Exercise - 14 GUI, Graphics\n",
        "\n",
        "AIM:\n",
        "\n",
        "a. Write a GUI for an Expression Calculator using tk\n",
        "DESCRIPTION:\n",
        "Tkinter is a Python package which comes with many functions and methods that can be used to \n",
        "create an application. In order to create a tkinter application, we generally create an instance of \n",
        "tkinter frame, i.e., Tk(). It helps to display the root window and manages all the other \n",
        "components of the tkinter application. We can initialize the tkinter instance by assigning the \n",
        "variable to it.\n",
        "\n",
        "PROGRAM:"
      ]
    },
    {
      "cell_type": "code",
      "metadata": {
        "id": "IKY0ZvxcDrkg"
      },
      "source": [
        ""
      ],
      "execution_count": null,
      "outputs": []
    },
    {
      "cell_type": "markdown",
      "metadata": {
        "id": "w1YlP1YDD62z"
      },
      "source": [
        " AIM:\n",
        "\n",
        "b. Write a program to implement the following figures using turtle\n",
        "\n",
        "DESCRIPTION:\n",
        "The turtle module is an extended reimplementation of the same-named module from the Python \n",
        "standard distribution up to version Python 2.5.\n",
        "It tries to keep the merits of the old turtle module and to be (nearly) 100% compatible with it. \n",
        "This means in the first place to enable the learning programmer to use all the commands, \n",
        "classes and methods interactively when using the module from within IDLE run with the -n \n",
        "switch.\n",
        "The turtle module provides turtle graphics primitives, in both object-oriented and procedure-\n",
        "oriented ways. Because it uses tkinter for the underlying graphics, it needs a version of Python installed with Tk support.\n",
        "\n",
        "PROGRAM:"
      ]
    },
    {
      "cell_type": "code",
      "metadata": {
        "id": "L4Qk_57DLIvn"
      },
      "source": [
        " import turtle\n",
        "c=[\"red\",\"green\",\"blue\"]\n",
        "i=0\n",
        "turtle.pensize(5)\n",
        " \n",
        "for angle in range(0,360,30):\n",
        "    if i>2:\n",
        "        i=0\n",
        "    turtle.color(c[i])\n",
        "    turtle.seth(angle)\n",
        "    turtle.circle(50)\n",
        "    i+=1"
      ],
      "execution_count": null,
      "outputs": []
    },
    {
      "cell_type": "markdown",
      "metadata": {
        "id": "7caabF3IEHZn"
      },
      "source": [
        " Exercise - 15 - Testing\n",
        "\n",
        "AIM:\n",
        "\n",
        "a) Write a test-case to check the function even numbers which return True on passing a list of all even numbers\n",
        "\n",
        " \n",
        "DESCRIPTION:\n",
        "TestCase is used to create test cases by subclassing it. The last block of the code at the bottom \n",
        "allows us to run all the tests just by running the file. Basic terms used in the code : assertEqual()\n",
        "– This statement is used to check if the result obtained is equal to the expected result\n",
        "test case:\n",
        "A test case is a set of conditions which is used to determine whether a system under test works \n",
        "correctly.\n",
        "\n",
        "PROGRAM:"
      ]
    },
    {
      "cell_type": "code",
      "metadata": {
        "colab": {
          "base_uri": "https://localhost:8080/"
        },
        "id": "ePGO165THV5k",
        "outputId": "aa9e17c4-ea58-4b39-fa71-648da302fdfe"
      },
      "source": [
        " \n",
        "def evnNo(num):\n",
        "    stat=True\n",
        " \n",
        "    for i in num:\n",
        "        if i%2 ==1:\n",
        "            stat=False\n",
        "            break\n",
        "    return stat\n",
        "        \n",
        "numbers=[]\n",
        "for i in range(0,2):\n",
        "    numbers.append(int(input(\"Enter a value\")))\n",
        "print(evnNo(numbers))"
      ],
      "execution_count": null,
      "outputs": [
        {
          "output_type": "stream",
          "text": [
            "Enter a value2\n",
            "Enter a value5\n",
            "False\n"
          ],
          "name": "stdout"
        }
      ]
    },
    {
      "cell_type": "markdown",
      "metadata": {
        "id": "oSjZBq2gEYkD"
      },
      "source": [
        " AIM:\n",
        "\n",
        "b) Write a test-case to check the function reverse string which returns the reversed string \n",
        "\n",
        "DESCRIPTION:\n",
        "Python string library does’nt support the in-built “reverse()” as done by other python containers \n",
        "like list, hence knowing other methods to reverse string can prove to be useful. This article\n",
        "discusses several ways to achieve it.\n",
        "The reversed() returns the reversed iterator of the given string and then its elements are joined\n",
        "empty string separated using join(). And reversed order string is formed.\n",
        "\n",
        " \n",
        "PROGRAM:"
      ]
    },
    {
      "cell_type": "code",
      "metadata": {
        "id": "ZKFkHmibHsdY",
        "colab": {
          "base_uri": "https://localhost:8080/"
        },
        "outputId": "52b23c0e-80a4-4460-d821-1b3dae831fac"
      },
      "source": [
        " \n",
        "def rev_str(st):\n",
        "    temp=\"\"\n",
        "    for i in range(len(st)-1,-1,-1):\n",
        "        temp+=st[i]\n",
        "    return temp\n",
        " \n",
        "st=\"swarnandhra\"\n",
        "print(\"Given String is: \",st)\n",
        "print(\"Reverse String is: \",st[::-1])\n",
        "print(\"Reverse is: \",rev_str(st))"
      ],
      "execution_count": null,
      "outputs": [
        {
          "output_type": "stream",
          "name": "stdout",
          "text": [
            "Given String is:  swarnandhra\n",
            "Reverse String is:  arhdnanraws\n",
            "Reverse is:  arhdnanraws\n"
          ]
        }
      ]
    },
    {
      "cell_type": "code",
      "metadata": {
        "colab": {
          "base_uri": "https://localhost:8080/"
        },
        "id": "1wdRLYTjH5EG",
        "outputId": "3bbc9e67-7545-4f79-e6a3-46c4b3238f24"
      },
      "source": [
        " \n",
        "def rev_str(st):\n",
        "    return st[::-1]\n",
        " \n",
        "st=\"swarnandhra\"\n",
        "print(\"Given String is: \",st)\n",
        " \n",
        "print(\"Reverse is: \",rev_str(st))"
      ],
      "execution_count": null,
      "outputs": [
        {
          "output_type": "stream",
          "text": [
            "Given String is:  swarnandhra\n",
            "Reverse is:  arhdnanraws\n"
          ],
          "name": "stdout"
        }
      ]
    },
    {
      "cell_type": "markdown",
      "metadata": {
        "id": "6NtmU-41Eo3v"
      },
      "source": [
        " Exercise - 16 - Advanced\n",
        "\n",
        "AIM:\n",
        "\n",
        "a) Build any one classical data structure.\n",
        "\n",
        "DESCRIPTION:\n",
        "What is a Data Structure?\n",
        "Organizing, managing and storing data is important as it enables easier access and eficient\n",
        "modifications. Data Structures allows you to organize your data in such a way that enables you \n",
        "to store collections of data, relate them and perform operations on them accordingly.\n",
        "Stack Stacks are linear Data Structures which are based on the principle of Last-In-First-Out\n",
        "(LIFO) where data which is entered last will be the first to get accessed. It is built using the array \n",
        "structure and has operations namely, pushing (adding) elements, popping (deleting) elements \n",
        "and accessing elements only from one point in the stack called as the TOP. This TOP is the \n",
        "pointer to the current position of the stack. Stacks are prominently used in applications such as \n",
        "Recursive Programming, reversing words, undo mechanisms in word editors and so forth\n",
        "\n",
        "PROGRAM:"
      ]
    },
    {
      "cell_type": "code",
      "metadata": {
        "colab": {
          "base_uri": "https://localhost:8080/",
          "height": 388
        },
        "id": "xWeYiYRNskB4",
        "outputId": "12659bdf-88b8-49dc-9588-0534027767fb"
      },
      "source": [
        " import sys\n",
        "a=[]\n",
        " \n",
        "while True:\n",
        "  print (\"\\nl.PUSH 2.POP 3.DISPLAY 4.EXIT\")\n",
        "  ch=int(input(\"Enter Your Choice: \"))\n",
        "  if ch==1:\n",
        "   ele=int(input(\"Enter element: \"))\n",
        "   a.append(ele)\n",
        "   print(\"Inserted\")\n",
        "  elif ch==2:\n",
        "   if len(a)==0:\n",
        "     print (\"\\t STACK IS EMPTY\")\n",
        "   else:\n",
        "     print (\"Deleted element is: \",a[len(a)-1])\n",
        "     a.remove(a[len(a)-1])\n",
        "  elif ch==3:\n",
        "   if len(a)==0:\n",
        "     print (\"\\t STACK IS EMPTY\")\n",
        "   else:\n",
        "    print (\"The Elements in Stack is: \")\n",
        "    for i in reversed(a):\n",
        "       print(i)\n",
        "  elif ch==4:\n",
        "    sys.exit()\n",
        "  else:\n",
        "   print (\"\\tINVALID CHOICE\")"
      ],
      "execution_count": null,
      "outputs": [
        {
          "output_type": "stream",
          "text": [
            "\n",
            "l.PUSH 2.POP 3.DISPLAY 4.EXIT\n",
            "Enter Your Choice: 2\n",
            "\t STACK IS EMPTY\n",
            "\n",
            "l.PUSH 2.POP 3.DISPLAY 4.EXIT\n",
            "Enter Your Choice: 1\n",
            "Enter element: 5\n",
            "Inserted\n",
            "\n",
            "l.PUSH 2.POP 3.DISPLAY 4.EXIT\n",
            "Enter Your Choice: 4\n"
          ],
          "name": "stdout"
        },
        {
          "output_type": "error",
          "ename": "SystemExit",
          "evalue": "ignored",
          "traceback": [
            "An exception has occurred, use %tb to see the full traceback.\n",
            "\u001b[0;31mSystemExit\u001b[0m\n"
          ]
        },
        {
          "output_type": "stream",
          "text": [
            "/usr/local/lib/python3.7/dist-packages/IPython/core/interactiveshell.py:2890: UserWarning: To exit: use 'exit', 'quit', or Ctrl-D.\n",
            "  warn(\"To exit: use 'exit', 'quit', or Ctrl-D.\", stacklevel=1)\n"
          ],
          "name": "stderr"
        }
      ]
    },
    {
      "cell_type": "markdown",
      "metadata": {
        "id": "BKR3Eq6lFCLN"
      },
      "source": [
        " AIM:\n",
        " \n",
        "b) Write a program to solve knapsack problem\n",
        "\n",
        "DESCRIPTION:\n",
        "Python Program for 0-1 Knapsack Problem\n",
        "Problem statement − We are given weights and values of n items, we need to put these items in \n",
        "a bag of capacity W up to the maximum capacity w. We need to carry a maximum number of\n",
        "items and return its \n",
        "value. Brute-force \n",
        "approach.\n",
        "dynamic approach.\n",
        "\n",
        "PROGRAM:"
      ]
    },
    {
      "cell_type": "code",
      "metadata": {
        "colab": {
          "base_uri": "https://localhost:8080/"
        },
        "id": "hmxvrNyQs10v",
        "outputId": "45db7961-f197-46aa-9ff2-684e47ed207d"
      },
      "source": [
        " def knapSack(W, wt, val, n):\n",
        "   K= [[0 for x in range(W+1)] for x in range(n+1)]\n",
        "   for i in range(n+1):\n",
        "     for w in range(W+1):\n",
        "       if i==0 or w==0:\n",
        "          K[i][w] = 0\n",
        "       elif wt[i-1]<=w:\n",
        "          K[i][w]= max(val[i-1]+K[i-1][w-wt[i-1]],K[i-1][w])\n",
        "       else:\n",
        "          K[i][w] = K[i-1][w]\n",
        "   return K[n][W]\n",
        "val = [5, 3, 4]\n",
        "wt = [3, 2, 1]\n",
        "W = 5\n",
        "n= len(val)\n",
        "print(\"Maximum value knapsack of capacity W: \", knapSack(W, wt,val,n))"
      ],
      "execution_count": null,
      "outputs": [
        {
          "output_type": "stream",
          "text": [
            "Maximum value knapsack of capacity W:  9\n"
          ],
          "name": "stdout"
        }
      ]
    },
    {
      "cell_type": "markdown",
      "metadata": {
        "id": "fFZDLd4AFILV"
      },
      "source": [
        " Exercise - 17&18–Data Analysis\n",
        "\n",
        "AIM:\n",
        "1. Data analysis or manipulation using the following packages\n",
        "a) Numpy b) Pandas a) Scipy b) matplotlib\n",
        "DESCRIPTION:\n",
        "Learn how to analyze data using Python..... It includes following parts: Data Analysis libraries:\n",
        "will learn to use Pandas, Numpy and Scipy libraries to work with a sample dataset. We will\n",
        "introduce you to pandas, an open-source library, and we will use it to load, manipulate, analyze, \n",
        "and visualize cool datasets.\n",
        "SciPy is a free and open-source Python library used for scientific computing and technical \n",
        "computing. It is a collection of mathematical algorithms and convenience functions built on the \n",
        "NumPy extension of Python\n",
        "NumPy is the fundamental package for scientific computing in Python. ....NumPy arrays\n",
        "facilitate advanced mathematical and other types of operations on large numbers of data.\n",
        "Matplotlib is a plotting library for the Python programming language and its numerical\n",
        "mathematics extension NumPy. It provides an object-oriented API for embedding plots into \n",
        "applications using general-purpose GUI toolkits like Tkinter, wxPython, Qt, or GTK\n",
        "Pandas is an open source Python package that is most widely used for data science/data \n",
        "analysis and machine learning tasks. It is built on top of another package named Numpy, which \n",
        "provides support for multi-dimensional arrays.\n",
        "Scikit-learn is probably the most useful library for machine learning in Python. The sklearn\n",
        "library contains a lot of eficient tools for machine learning and statistical modeling including \n",
        "classification, regression, clustering and dimensionality reduction.\n",
        "Seaborn is a library in Python predominantly used for making statistical graphics. Seaborn is a \n",
        "data visualization library built on top of matplotlib and closely integrated with pandas data \n",
        "structures in Python\n",
        "\n",
        "PROGRAM:"
      ]
    },
    {
      "cell_type": "code",
      "metadata": {
        "id": "HMUGDbr1-6uh"
      },
      "source": [
        ""
      ],
      "execution_count": null,
      "outputs": []
    },
    {
      "cell_type": "code",
      "metadata": {
        "colab": {
          "base_uri": "https://localhost:8080/"
        },
        "id": "19w8-c26tJMT",
        "outputId": "e6655c27-0d35-4a30-9e29-bbe0d6eaaecd"
      },
      "source": [
        " #Python version\n",
        "import sys\n",
        "print('Python: {}'.format(sys.version))\n",
        " \n",
        "#scipy\n",
        "import scipy\n",
        "print('scipy: {}'.format(scipy.__version__))\n",
        " \n",
        "# numpy\n",
        "import numpy\n",
        "print( 'numpy: {}'.format(numpy.__version__))\n",
        " \n",
        "# matplotlib\n",
        "import matplotlib\n",
        "print('matplotlib: {}'.format(matplotlib.__version__))\n",
        " \n",
        "# pandas\n",
        "import pandas\n",
        "print('pandas: {}'.format(pandas.__version__))\n",
        " \n",
        "#scikit-learn\n",
        "import sklearn\n",
        "print('sklearn: {}'.format(sklearn.__version__))\n",
        "import seaborn\n",
        "print('seaborn: {}'.format(seaborn.__version__))\n",
        "import urllib\n",
        "print('urlib: {}'.format(urllib.__name__))\n",
        "import csv\n",
        "print('csv: {}'.format(csv.__version__))"
      ],
      "execution_count": null,
      "outputs": [
        {
          "output_type": "stream",
          "text": [
            "Python: 3.7.11 (default, Jul  3 2021, 18:01:19) \n",
            "[GCC 7.5.0]\n",
            "scipy: 1.4.1\n",
            "numpy: 1.19.5\n",
            "matplotlib: 3.2.2\n",
            "pandas: 1.1.5\n",
            "sklearn: 0.22.2.post1\n",
            "seaborn: 0.11.1\n",
            "urlib: urllib\n",
            "csv: 1.0\n"
          ],
          "name": "stdout"
        }
      ]
    }
  ]
}